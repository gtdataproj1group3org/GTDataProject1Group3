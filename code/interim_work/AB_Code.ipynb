{
 "cells": [
  {
   "cell_type": "code",
   "execution_count": 2,
   "metadata": {},
   "outputs": [
    {
     "name": "stderr",
     "output_type": "stream",
     "text": [
      "C:\\Users\\abehr\\Anaconda3\\envs\\ProjectOne\\lib\\site-packages\\IPython\\core\\interactiveshell.py:3057: DtypeWarning: Columns (95,96,102,103,104) have mixed types. Specify dtype option on import or set low_memory=False.\n",
      "  interactivity=interactivity, compiler=compiler, result=result)\n"
     ]
    },
    {
     "data": {
      "text/html": [
       "<div>\n",
       "<style scoped>\n",
       "    .dataframe tbody tr th:only-of-type {\n",
       "        vertical-align: middle;\n",
       "    }\n",
       "\n",
       "    .dataframe tbody tr th {\n",
       "        vertical-align: top;\n",
       "    }\n",
       "\n",
       "    .dataframe thead th {\n",
       "        text-align: right;\n",
       "    }\n",
       "</style>\n",
       "<table border=\"1\" class=\"dataframe\">\n",
       "  <thead>\n",
       "    <tr style=\"text-align: right;\">\n",
       "      <th></th>\n",
       "      <th>play_id</th>\n",
       "      <th>game_id</th>\n",
       "      <th>home_team</th>\n",
       "      <th>away_team</th>\n",
       "      <th>posteam</th>\n",
       "      <th>posteam_type</th>\n",
       "      <th>defteam</th>\n",
       "      <th>yardline_100</th>\n",
       "      <th>game_date</th>\n",
       "      <th>quarter_seconds_remaining</th>\n",
       "      <th>...</th>\n",
       "      <th>fumbled_2_team</th>\n",
       "      <th>fumble_recovery_1_team</th>\n",
       "      <th>fumble_recovery_1_yards</th>\n",
       "      <th>fumble_recovery_2_team</th>\n",
       "      <th>fumble_recovery_2_yards</th>\n",
       "      <th>penalty_team</th>\n",
       "      <th>penalty_player_id</th>\n",
       "      <th>penalty_player_name</th>\n",
       "      <th>penalty_yards</th>\n",
       "      <th>penalty_type</th>\n",
       "    </tr>\n",
       "  </thead>\n",
       "  <tbody>\n",
       "    <tr>\n",
       "      <th>0</th>\n",
       "      <td>46</td>\n",
       "      <td>2009091000</td>\n",
       "      <td>PIT</td>\n",
       "      <td>TEN</td>\n",
       "      <td>PIT</td>\n",
       "      <td>home</td>\n",
       "      <td>TEN</td>\n",
       "      <td>30.0</td>\n",
       "      <td>9/10/09</td>\n",
       "      <td>900.0</td>\n",
       "      <td>...</td>\n",
       "      <td>NaN</td>\n",
       "      <td>NaN</td>\n",
       "      <td>NaN</td>\n",
       "      <td>NaN</td>\n",
       "      <td>NaN</td>\n",
       "      <td>NaN</td>\n",
       "      <td>NaN</td>\n",
       "      <td>NaN</td>\n",
       "      <td>NaN</td>\n",
       "      <td>NaN</td>\n",
       "    </tr>\n",
       "    <tr>\n",
       "      <th>1</th>\n",
       "      <td>68</td>\n",
       "      <td>2009091000</td>\n",
       "      <td>PIT</td>\n",
       "      <td>TEN</td>\n",
       "      <td>PIT</td>\n",
       "      <td>home</td>\n",
       "      <td>TEN</td>\n",
       "      <td>58.0</td>\n",
       "      <td>9/10/09</td>\n",
       "      <td>893.0</td>\n",
       "      <td>...</td>\n",
       "      <td>NaN</td>\n",
       "      <td>NaN</td>\n",
       "      <td>NaN</td>\n",
       "      <td>NaN</td>\n",
       "      <td>NaN</td>\n",
       "      <td>NaN</td>\n",
       "      <td>NaN</td>\n",
       "      <td>NaN</td>\n",
       "      <td>NaN</td>\n",
       "      <td>NaN</td>\n",
       "    </tr>\n",
       "    <tr>\n",
       "      <th>2</th>\n",
       "      <td>92</td>\n",
       "      <td>2009091000</td>\n",
       "      <td>PIT</td>\n",
       "      <td>TEN</td>\n",
       "      <td>PIT</td>\n",
       "      <td>home</td>\n",
       "      <td>TEN</td>\n",
       "      <td>53.0</td>\n",
       "      <td>9/10/09</td>\n",
       "      <td>856.0</td>\n",
       "      <td>...</td>\n",
       "      <td>NaN</td>\n",
       "      <td>NaN</td>\n",
       "      <td>NaN</td>\n",
       "      <td>NaN</td>\n",
       "      <td>NaN</td>\n",
       "      <td>NaN</td>\n",
       "      <td>NaN</td>\n",
       "      <td>NaN</td>\n",
       "      <td>NaN</td>\n",
       "      <td>NaN</td>\n",
       "    </tr>\n",
       "    <tr>\n",
       "      <th>3</th>\n",
       "      <td>113</td>\n",
       "      <td>2009091000</td>\n",
       "      <td>PIT</td>\n",
       "      <td>TEN</td>\n",
       "      <td>PIT</td>\n",
       "      <td>home</td>\n",
       "      <td>TEN</td>\n",
       "      <td>56.0</td>\n",
       "      <td>9/10/09</td>\n",
       "      <td>815.0</td>\n",
       "      <td>...</td>\n",
       "      <td>NaN</td>\n",
       "      <td>NaN</td>\n",
       "      <td>NaN</td>\n",
       "      <td>NaN</td>\n",
       "      <td>NaN</td>\n",
       "      <td>NaN</td>\n",
       "      <td>NaN</td>\n",
       "      <td>NaN</td>\n",
       "      <td>NaN</td>\n",
       "      <td>NaN</td>\n",
       "    </tr>\n",
       "    <tr>\n",
       "      <th>4</th>\n",
       "      <td>139</td>\n",
       "      <td>2009091000</td>\n",
       "      <td>PIT</td>\n",
       "      <td>TEN</td>\n",
       "      <td>PIT</td>\n",
       "      <td>home</td>\n",
       "      <td>TEN</td>\n",
       "      <td>56.0</td>\n",
       "      <td>9/10/09</td>\n",
       "      <td>807.0</td>\n",
       "      <td>...</td>\n",
       "      <td>NaN</td>\n",
       "      <td>NaN</td>\n",
       "      <td>NaN</td>\n",
       "      <td>NaN</td>\n",
       "      <td>NaN</td>\n",
       "      <td>NaN</td>\n",
       "      <td>NaN</td>\n",
       "      <td>NaN</td>\n",
       "      <td>NaN</td>\n",
       "      <td>NaN</td>\n",
       "    </tr>\n",
       "  </tbody>\n",
       "</table>\n",
       "<p>5 rows × 114 columns</p>\n",
       "</div>"
      ],
      "text/plain": [
       "   play_id     game_id home_team away_team posteam posteam_type defteam  \\\n",
       "0       46  2009091000       PIT       TEN     PIT         home     TEN   \n",
       "1       68  2009091000       PIT       TEN     PIT         home     TEN   \n",
       "2       92  2009091000       PIT       TEN     PIT         home     TEN   \n",
       "3      113  2009091000       PIT       TEN     PIT         home     TEN   \n",
       "4      139  2009091000       PIT       TEN     PIT         home     TEN   \n",
       "\n",
       "   yardline_100 game_date  quarter_seconds_remaining  ...  fumbled_2_team  \\\n",
       "0          30.0   9/10/09                      900.0  ...             NaN   \n",
       "1          58.0   9/10/09                      893.0  ...             NaN   \n",
       "2          53.0   9/10/09                      856.0  ...             NaN   \n",
       "3          56.0   9/10/09                      815.0  ...             NaN   \n",
       "4          56.0   9/10/09                      807.0  ...             NaN   \n",
       "\n",
       "   fumble_recovery_1_team fumble_recovery_1_yards  fumble_recovery_2_team  \\\n",
       "0                     NaN                     NaN                     NaN   \n",
       "1                     NaN                     NaN                     NaN   \n",
       "2                     NaN                     NaN                     NaN   \n",
       "3                     NaN                     NaN                     NaN   \n",
       "4                     NaN                     NaN                     NaN   \n",
       "\n",
       "   fumble_recovery_2_yards  penalty_team  penalty_player_id  \\\n",
       "0                      NaN           NaN                NaN   \n",
       "1                      NaN           NaN                NaN   \n",
       "2                      NaN           NaN                NaN   \n",
       "3                      NaN           NaN                NaN   \n",
       "4                      NaN           NaN                NaN   \n",
       "\n",
       "   penalty_player_name  penalty_yards penalty_type  \n",
       "0                  NaN            NaN          NaN  \n",
       "1                  NaN            NaN          NaN  \n",
       "2                  NaN            NaN          NaN  \n",
       "3                  NaN            NaN          NaN  \n",
       "4                  NaN            NaN          NaN  \n",
       "\n",
       "[5 rows x 114 columns]"
      ]
     },
     "execution_count": 2,
     "metadata": {},
     "output_type": "execute_result"
    }
   ],
   "source": [
    "#Dependencies and Setup\n",
    "import pandas as pd\n",
    "import numpy as np\n",
    "import matplotlib.pyplot as plt\n",
    "\n",
    "#File to load\n",
    "Test_Data = \"Resources/SAMPLES-NFL-PlayByPlay-2009-2018.csv\"\n",
    "\n",
    "#Read the file \n",
    "nfl_data = pd.read_csv(Test_Data)\n",
    "nfl_data.head()\n"
   ]
  },
  {
   "cell_type": "code",
   "execution_count": 3,
   "metadata": {},
   "outputs": [
    {
     "data": {
      "text/plain": [
       "40746"
      ]
     },
     "execution_count": 3,
     "metadata": {},
     "output_type": "execute_result"
    }
   ],
   "source": [
    "# Just grab total number of plays\n",
    "total_plays = nfl_data[\"play_id\"].count()\n",
    "total_plays"
   ]
  },
  {
   "cell_type": "code",
   "execution_count": 4,
   "metadata": {},
   "outputs": [
    {
     "data": {
      "text/html": [
       "<div>\n",
       "<style scoped>\n",
       "    .dataframe tbody tr th:only-of-type {\n",
       "        vertical-align: middle;\n",
       "    }\n",
       "\n",
       "    .dataframe tbody tr th {\n",
       "        vertical-align: top;\n",
       "    }\n",
       "\n",
       "    .dataframe thead th {\n",
       "        text-align: right;\n",
       "    }\n",
       "</style>\n",
       "<table border=\"1\" class=\"dataframe\">\n",
       "  <thead>\n",
       "    <tr style=\"text-align: right;\">\n",
       "      <th></th>\n",
       "      <th>play_id</th>\n",
       "      <th>game_id</th>\n",
       "      <th>home_team</th>\n",
       "      <th>away_team</th>\n",
       "      <th>posteam</th>\n",
       "      <th>posteam_type</th>\n",
       "      <th>defteam</th>\n",
       "      <th>yardline_100</th>\n",
       "      <th>game_date</th>\n",
       "      <th>quarter_seconds_remaining</th>\n",
       "      <th>...</th>\n",
       "      <th>fumble_recovery_1_team</th>\n",
       "      <th>fumble_recovery_1_yards</th>\n",
       "      <th>fumble_recovery_2_team</th>\n",
       "      <th>fumble_recovery_2_yards</th>\n",
       "      <th>penalty_team</th>\n",
       "      <th>penalty_player_id</th>\n",
       "      <th>penalty_player_name</th>\n",
       "      <th>penalty_yards</th>\n",
       "      <th>penalty_type</th>\n",
       "      <th>game_year</th>\n",
       "    </tr>\n",
       "  </thead>\n",
       "  <tbody>\n",
       "    <tr>\n",
       "      <th>0</th>\n",
       "      <td>46</td>\n",
       "      <td>2009091000</td>\n",
       "      <td>PIT</td>\n",
       "      <td>TEN</td>\n",
       "      <td>PIT</td>\n",
       "      <td>home</td>\n",
       "      <td>TEN</td>\n",
       "      <td>30.0</td>\n",
       "      <td>9/10/09</td>\n",
       "      <td>900.0</td>\n",
       "      <td>...</td>\n",
       "      <td>NaN</td>\n",
       "      <td>NaN</td>\n",
       "      <td>NaN</td>\n",
       "      <td>NaN</td>\n",
       "      <td>NaN</td>\n",
       "      <td>NaN</td>\n",
       "      <td>NaN</td>\n",
       "      <td>NaN</td>\n",
       "      <td>NaN</td>\n",
       "      <td>2009</td>\n",
       "    </tr>\n",
       "    <tr>\n",
       "      <th>1</th>\n",
       "      <td>68</td>\n",
       "      <td>2009091000</td>\n",
       "      <td>PIT</td>\n",
       "      <td>TEN</td>\n",
       "      <td>PIT</td>\n",
       "      <td>home</td>\n",
       "      <td>TEN</td>\n",
       "      <td>58.0</td>\n",
       "      <td>9/10/09</td>\n",
       "      <td>893.0</td>\n",
       "      <td>...</td>\n",
       "      <td>NaN</td>\n",
       "      <td>NaN</td>\n",
       "      <td>NaN</td>\n",
       "      <td>NaN</td>\n",
       "      <td>NaN</td>\n",
       "      <td>NaN</td>\n",
       "      <td>NaN</td>\n",
       "      <td>NaN</td>\n",
       "      <td>NaN</td>\n",
       "      <td>2009</td>\n",
       "    </tr>\n",
       "    <tr>\n",
       "      <th>2</th>\n",
       "      <td>92</td>\n",
       "      <td>2009091000</td>\n",
       "      <td>PIT</td>\n",
       "      <td>TEN</td>\n",
       "      <td>PIT</td>\n",
       "      <td>home</td>\n",
       "      <td>TEN</td>\n",
       "      <td>53.0</td>\n",
       "      <td>9/10/09</td>\n",
       "      <td>856.0</td>\n",
       "      <td>...</td>\n",
       "      <td>NaN</td>\n",
       "      <td>NaN</td>\n",
       "      <td>NaN</td>\n",
       "      <td>NaN</td>\n",
       "      <td>NaN</td>\n",
       "      <td>NaN</td>\n",
       "      <td>NaN</td>\n",
       "      <td>NaN</td>\n",
       "      <td>NaN</td>\n",
       "      <td>2009</td>\n",
       "    </tr>\n",
       "    <tr>\n",
       "      <th>3</th>\n",
       "      <td>113</td>\n",
       "      <td>2009091000</td>\n",
       "      <td>PIT</td>\n",
       "      <td>TEN</td>\n",
       "      <td>PIT</td>\n",
       "      <td>home</td>\n",
       "      <td>TEN</td>\n",
       "      <td>56.0</td>\n",
       "      <td>9/10/09</td>\n",
       "      <td>815.0</td>\n",
       "      <td>...</td>\n",
       "      <td>NaN</td>\n",
       "      <td>NaN</td>\n",
       "      <td>NaN</td>\n",
       "      <td>NaN</td>\n",
       "      <td>NaN</td>\n",
       "      <td>NaN</td>\n",
       "      <td>NaN</td>\n",
       "      <td>NaN</td>\n",
       "      <td>NaN</td>\n",
       "      <td>2009</td>\n",
       "    </tr>\n",
       "    <tr>\n",
       "      <th>4</th>\n",
       "      <td>139</td>\n",
       "      <td>2009091000</td>\n",
       "      <td>PIT</td>\n",
       "      <td>TEN</td>\n",
       "      <td>PIT</td>\n",
       "      <td>home</td>\n",
       "      <td>TEN</td>\n",
       "      <td>56.0</td>\n",
       "      <td>9/10/09</td>\n",
       "      <td>807.0</td>\n",
       "      <td>...</td>\n",
       "      <td>NaN</td>\n",
       "      <td>NaN</td>\n",
       "      <td>NaN</td>\n",
       "      <td>NaN</td>\n",
       "      <td>NaN</td>\n",
       "      <td>NaN</td>\n",
       "      <td>NaN</td>\n",
       "      <td>NaN</td>\n",
       "      <td>NaN</td>\n",
       "      <td>2009</td>\n",
       "    </tr>\n",
       "  </tbody>\n",
       "</table>\n",
       "<p>5 rows × 115 columns</p>\n",
       "</div>"
      ],
      "text/plain": [
       "   play_id     game_id home_team away_team posteam posteam_type defteam  \\\n",
       "0       46  2009091000       PIT       TEN     PIT         home     TEN   \n",
       "1       68  2009091000       PIT       TEN     PIT         home     TEN   \n",
       "2       92  2009091000       PIT       TEN     PIT         home     TEN   \n",
       "3      113  2009091000       PIT       TEN     PIT         home     TEN   \n",
       "4      139  2009091000       PIT       TEN     PIT         home     TEN   \n",
       "\n",
       "   yardline_100 game_date  quarter_seconds_remaining  ...  \\\n",
       "0          30.0   9/10/09                      900.0  ...   \n",
       "1          58.0   9/10/09                      893.0  ...   \n",
       "2          53.0   9/10/09                      856.0  ...   \n",
       "3          56.0   9/10/09                      815.0  ...   \n",
       "4          56.0   9/10/09                      807.0  ...   \n",
       "\n",
       "   fumble_recovery_1_team  fumble_recovery_1_yards fumble_recovery_2_team  \\\n",
       "0                     NaN                      NaN                    NaN   \n",
       "1                     NaN                      NaN                    NaN   \n",
       "2                     NaN                      NaN                    NaN   \n",
       "3                     NaN                      NaN                    NaN   \n",
       "4                     NaN                      NaN                    NaN   \n",
       "\n",
       "   fumble_recovery_2_yards  penalty_team  penalty_player_id  \\\n",
       "0                      NaN           NaN                NaN   \n",
       "1                      NaN           NaN                NaN   \n",
       "2                      NaN           NaN                NaN   \n",
       "3                      NaN           NaN                NaN   \n",
       "4                      NaN           NaN                NaN   \n",
       "\n",
       "   penalty_player_name  penalty_yards  penalty_type game_year  \n",
       "0                  NaN            NaN           NaN      2009  \n",
       "1                  NaN            NaN           NaN      2009  \n",
       "2                  NaN            NaN           NaN      2009  \n",
       "3                  NaN            NaN           NaN      2009  \n",
       "4                  NaN            NaN           NaN      2009  \n",
       "\n",
       "[5 rows x 115 columns]"
      ]
     },
     "execution_count": 4,
     "metadata": {},
     "output_type": "execute_result"
    }
   ],
   "source": [
    "# Create a column for year that game occurred\n",
    "\n",
    "game_year = pd.DatetimeIndex(nfl_data[\"game_date\"]).year\n",
    "nfl_data[\"game_year\"] = game_year\n",
    "nfl_data.head()"
   ]
  },
  {
   "cell_type": "code",
   "execution_count": 5,
   "metadata": {},
   "outputs": [
    {
     "name": "stdout",
     "output_type": "stream",
     "text": [
      "Pass average: 6.289028176439576 Run average: 4.347287887905098\n"
     ]
    }
   ],
   "source": [
    "# Code to discover the average yardage of all run plays vs. all pass plays\n",
    "\n",
    "run_play = nfl_data.loc[nfl_data[\"play_type\"] == \"run\", :]\n",
    "run_avg = run_play[\"yards_gained\"].mean()\n",
    "\n",
    "pass_play = nfl_data.loc[nfl_data[\"play_type\"] == \"pass\", :]\n",
    "pass_avg = pass_play[\"yards_gained\"].mean()\n",
    "\n",
    "print(f'Pass average:', pass_avg, 'Run average:', run_avg)\n"
   ]
  },
  {
   "cell_type": "code",
   "execution_count": 6,
   "metadata": {},
   "outputs": [
    {
     "data": {
      "text/plain": [
       "Text(0, 0.5, 'Avg Yards Gained')"
      ]
     },
     "execution_count": 6,
     "metadata": {},
     "output_type": "execute_result"
    },
    {
     "data": {
      "image/png": "[encoded data removed]",
      "text/plain": [
       "<Figure size 432x288 with 1 Axes>"
      ]
     },
     "metadata": {
      "needs_background": "light"
     },
     "output_type": "display_data"
    }
   ],
   "source": [
    "#Create a chart detailing the average yards gained by play type for overall sample size\n",
    "\n",
    "avg_yards = [run_avg, pass_avg]\n",
    "x_axis = np.arange(len(avg_yards))\n",
    "\n",
    "plt.bar(x_axis, avg_yards, color='b', alpha=0.5, align='center')\n",
    "\n",
    "tick_locations = [value for value in x_axis]\n",
    "plt.xticks(tick_locations, [\"Run Play\", \"Pass Play\"])\n",
    "\n",
    "plt.title(\"Average Yards Gained by Play Type\")\n",
    "plt.xlabel(\"Play Type\")\n",
    "plt.ylabel(\"Avg Yards Gained\")"
   ]
  },
  {
   "cell_type": "code",
   "execution_count": 7,
   "metadata": {},
   "outputs": [
    {
     "name": "stdout",
     "output_type": "stream",
     "text": [
      "Run play fumbles total: 77.0 Pass play interceptions: 338.0\n"
     ]
    }
   ],
   "source": [
    "#Calculate the turnovers by play type\n",
    "\n",
    "fumbles = run_play[\"fumble_lost\"].sum()\n",
    "\n",
    "interceptions = pass_play[\"interception\"].sum()\n",
    "\n",
    "print(f'Run play fumbles total:', fumbles, 'Pass play interceptions:', interceptions)\n"
   ]
  },
  {
   "cell_type": "code",
   "execution_count": 8,
   "metadata": {},
   "outputs": [
    {
     "data": {
      "text/plain": [
       "Text(0, 0.5, 'Total Count of Turnover Type')"
      ]
     },
     "execution_count": 8,
     "metadata": {},
     "output_type": "execute_result"
    },
    {
     "data": {
      "image/png": "[encoded data removed]",
      "text/plain": [
       "<Figure size 432x288 with 1 Axes>"
      ]
     },
     "metadata": {
      "needs_background": "light"
     },
     "output_type": "display_data"
    }
   ],
   "source": [
    "# Construct simple chart for turnovers\n",
    "\n",
    "Turnovers = [fumbles, interceptions]\n",
    "x_axis = np.arange(len(Turnovers))\n",
    "\n",
    "plt.bar(x_axis, Turnovers, color='r', alpha=0.5, align='center')\n",
    "\n",
    "tick_locations = [value for value in x_axis]\n",
    "plt.xticks(tick_locations, [\"Run Play Fumbles Lost\", \"Pass Plays Intercepted\"])\n",
    "\n",
    "plt.title(\"Total Turnovers by Play Type\")\n",
    "plt.xlabel(\"Turnover Type\")\n",
    "plt.ylabel(\"Total Count of Turnover Type\")"
   ]
  },
  {
   "cell_type": "code",
   "execution_count": 9,
   "metadata": {},
   "outputs": [
    {
     "name": "stdout",
     "output_type": "stream",
     "text": [
      "Tackled for Loss - Run: 1174.0 ; Sacks Taken - Pass 1090.0\n"
     ]
    }
   ],
   "source": [
    "# Sack vs Tackle for Loss Analysis (play count)\n",
    "\n",
    "sacks = pass_play[\"sack\"].sum()\n",
    "tackled_for_loss = run_play[\"tackled_for_loss\"].sum()\n",
    "\n",
    "print(f'Tackled for Loss - Run:', tackled_for_loss, '; Sacks Taken - Pass', sacks)"
   ]
  },
  {
   "cell_type": "code",
   "execution_count": 10,
   "metadata": {},
   "outputs": [
    {
     "name": "stdout",
     "output_type": "stream",
     "text": [
      "Avg loss when TFL - Run: -2.3390264730999144 ; Avg loss when sacked - Pass -6.64331797235023\n"
     ]
    }
   ],
   "source": [
    "# Sack vs Tackle for Loss Analysis (yardage)\n",
    "\n",
    "sack_plays = pass_play.loc[pass_play[\"sack\"] == 1, :]\n",
    "avg_loss_sack = sack_plays[\"yards_gained\"].mean()\n",
    "\n",
    "\n",
    "tfl_plays = run_play.loc[run_play[\"tackled_for_loss\"] == 1, :]\n",
    "avg_loss_tfl = tfl_plays[\"yards_gained\"].mean()\n",
    "\n",
    "print(f'Avg loss when TFL - Run:', avg_loss_tfl, '; Avg loss when sacked - Pass', avg_loss_sack)\n"
   ]
  },
  {
   "cell_type": "code",
   "execution_count": 11,
   "metadata": {},
   "outputs": [
    {
     "name": "stdout",
     "output_type": "stream",
     "text": [
      "Safeties via Run: 3 ; Safeties via Pass 6\n"
     ]
    }
   ],
   "source": [
    "# Safety Analysis \n",
    "\n",
    "safety_run = run_play.loc[run_play[\"safety\"] == 1, :]\n",
    "safety_pass = pass_play.loc[pass_play[\"safety\"] == 1, :]\n",
    "\n",
    "safety_count_run = safety_run[\"play_id\"].count()\n",
    "safety_count_pass = safety_pass[\"play_id\"].count()\n",
    "\n",
    "print(f'Safeties via Run:', safety_count_run, '; Safeties via Pass', safety_count_pass)"
   ]
  },
  {
   "cell_type": "code",
   "execution_count": 12,
   "metadata": {
    "scrolled": true
   },
   "outputs": [
    {
     "data": {
      "text/plain": [
       "game_year\n",
       "2009    4.518600\n",
       "2010    4.314010\n",
       "2011    4.141944\n",
       "2012    4.074541\n",
       "2013    4.461591\n",
       "2014    4.404235\n",
       "2015    4.045455\n",
       "2016    4.254495\n",
       "2017    4.305596\n",
       "2018    4.640161\n",
       "Name: yards_gained, dtype: float64"
      ]
     },
     "execution_count": 12,
     "metadata": {},
     "output_type": "execute_result"
    }
   ],
   "source": [
    "# Annual Average Yards gained by run play\n",
    "annual_run_yd = run_play.groupby(\"game_year\")[\"yards_gained\"].mean()\n",
    "annual_run_yd"
   ]
  },
  {
   "cell_type": "code",
   "execution_count": 13,
   "metadata": {},
   "outputs": [
    {
     "data": {
      "text/plain": [
       "game_year\n",
       "2009    6.346369\n",
       "2010    6.653571\n",
       "2011    6.027444\n",
       "2012    5.833333\n",
       "2013    6.218360\n",
       "2014    6.469638\n",
       "2015    6.785332\n",
       "2016    6.388745\n",
       "2017    6.038225\n",
       "2018    6.603712\n",
       "Name: yards_gained, dtype: float64"
      ]
     },
     "execution_count": 13,
     "metadata": {},
     "output_type": "execute_result"
    }
   ],
   "source": [
    "# Annual Average Yards gained by pass play\n",
    "annual_pass_yd = pass_play.groupby(\"game_year\")[\"yards_gained\"].mean()\n",
    "annual_pass_yd"
   ]
  },
  {
   "cell_type": "code",
   "execution_count": null,
   "metadata": {
    "scrolled": true
   },
   "outputs": [],
   "source": []
  },
  {
   "cell_type": "code",
   "execution_count": null,
   "metadata": {},
   "outputs": [],
   "source": []
  },
  {
   "cell_type": "code",
   "execution_count": null,
   "metadata": {},
   "outputs": [],
   "source": []
  }
 ],
 "metadata": {
  "kernelspec": {
   "display_name": "ProjectOne",
   "language": "python",
   "name": "projectone"
  },
  "language_info": {
   "codemirror_mode": {
    "name": "ipython",
    "version": 3
   },
   "file_extension": ".py",
   "mimetype": "text/x-python",
   "name": "python",
   "nbconvert_exporter": "python",
   "pygments_lexer": "ipython3",
   "version": "3.7.3"
  }
 },
 "nbformat": 4,
 "nbformat_minor": 2
}
