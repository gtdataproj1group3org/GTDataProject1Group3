{
 "cells": [
  {
   "cell_type": "code",
   "execution_count": 4,
   "metadata": {
    "scrolled": true
   },
   "outputs": [
    {
     "name": "stderr",
     "output_type": "stream",
     "text": [
      "/Users/i817245/anaconda3/envs/Project1/lib/python3.7/site-packages/IPython/core/interactiveshell.py:3057: DtypeWarning: Columns (42,166,167,168,169,174,175,178,179,182,183,188,189,190,191,194,195,203,204,205,218,219,220,231,232,233,238,240,241,249) have mixed types. Specify dtype option on import or set low_memory=False.\n",
      "  interactivity=interactivity, compiler=compiler, result=result)\n"
     ]
    }
   ],
   "source": [
    "#Dependencies and Setup\n",
    "import pandas as pd\n",
    "import numpy as np\n",
    "import matplotlib.pyplot as plt\n",
    "\n",
    "#File to load\n",
    "Test_Data = \"../data/NFL-PlaybyPlay-2009-2018.csv\"\n",
    "\n",
    "#Read the file \n",
    "nfl_data = pd.read_csv(Test_Data)\n"
   ]
  },
  {
   "cell_type": "code",
   "execution_count": 5,
   "metadata": {},
   "outputs": [
    {
     "data": {
      "text/html": [
       "<div>\n",
       "<style scoped>\n",
       "    .dataframe tbody tr th:only-of-type {\n",
       "        vertical-align: middle;\n",
       "    }\n",
       "\n",
       "    .dataframe tbody tr th {\n",
       "        vertical-align: top;\n",
       "    }\n",
       "\n",
       "    .dataframe thead th {\n",
       "        text-align: right;\n",
       "    }\n",
       "</style>\n",
       "<table border=\"1\" class=\"dataframe\">\n",
       "  <thead>\n",
       "    <tr style=\"text-align: right;\">\n",
       "      <th></th>\n",
       "      <th>play_id</th>\n",
       "      <th>game_id</th>\n",
       "      <th>home_team</th>\n",
       "      <th>away_team</th>\n",
       "      <th>posteam</th>\n",
       "      <th>posteam_type</th>\n",
       "      <th>defteam</th>\n",
       "      <th>yardline_100</th>\n",
       "      <th>game_date</th>\n",
       "      <th>quarter_seconds_remaining</th>\n",
       "      <th>...</th>\n",
       "      <th>fumbled_2_team</th>\n",
       "      <th>fumble_recovery_1_team</th>\n",
       "      <th>fumble_recovery_1_yards</th>\n",
       "      <th>fumble_recovery_2_team</th>\n",
       "      <th>fumble_recovery_2_yards</th>\n",
       "      <th>penalty_team</th>\n",
       "      <th>penalty_player_id</th>\n",
       "      <th>penalty_player_name</th>\n",
       "      <th>penalty_yards</th>\n",
       "      <th>penalty_type</th>\n",
       "    </tr>\n",
       "  </thead>\n",
       "  <tbody>\n",
       "    <tr>\n",
       "      <th>0</th>\n",
       "      <td>46</td>\n",
       "      <td>2009091000</td>\n",
       "      <td>PIT</td>\n",
       "      <td>TEN</td>\n",
       "      <td>PIT</td>\n",
       "      <td>home</td>\n",
       "      <td>TEN</td>\n",
       "      <td>30.0</td>\n",
       "      <td>2009-09-10</td>\n",
       "      <td>900.0</td>\n",
       "      <td>...</td>\n",
       "      <td>NaN</td>\n",
       "      <td>NaN</td>\n",
       "      <td>NaN</td>\n",
       "      <td>NaN</td>\n",
       "      <td>NaN</td>\n",
       "      <td>NaN</td>\n",
       "      <td>NaN</td>\n",
       "      <td>NaN</td>\n",
       "      <td>NaN</td>\n",
       "      <td>NaN</td>\n",
       "    </tr>\n",
       "    <tr>\n",
       "      <th>1</th>\n",
       "      <td>68</td>\n",
       "      <td>2009091000</td>\n",
       "      <td>PIT</td>\n",
       "      <td>TEN</td>\n",
       "      <td>PIT</td>\n",
       "      <td>home</td>\n",
       "      <td>TEN</td>\n",
       "      <td>58.0</td>\n",
       "      <td>2009-09-10</td>\n",
       "      <td>893.0</td>\n",
       "      <td>...</td>\n",
       "      <td>NaN</td>\n",
       "      <td>NaN</td>\n",
       "      <td>NaN</td>\n",
       "      <td>NaN</td>\n",
       "      <td>NaN</td>\n",
       "      <td>NaN</td>\n",
       "      <td>NaN</td>\n",
       "      <td>NaN</td>\n",
       "      <td>NaN</td>\n",
       "      <td>NaN</td>\n",
       "    </tr>\n",
       "    <tr>\n",
       "      <th>2</th>\n",
       "      <td>92</td>\n",
       "      <td>2009091000</td>\n",
       "      <td>PIT</td>\n",
       "      <td>TEN</td>\n",
       "      <td>PIT</td>\n",
       "      <td>home</td>\n",
       "      <td>TEN</td>\n",
       "      <td>53.0</td>\n",
       "      <td>2009-09-10</td>\n",
       "      <td>856.0</td>\n",
       "      <td>...</td>\n",
       "      <td>NaN</td>\n",
       "      <td>NaN</td>\n",
       "      <td>NaN</td>\n",
       "      <td>NaN</td>\n",
       "      <td>NaN</td>\n",
       "      <td>NaN</td>\n",
       "      <td>NaN</td>\n",
       "      <td>NaN</td>\n",
       "      <td>NaN</td>\n",
       "      <td>NaN</td>\n",
       "    </tr>\n",
       "    <tr>\n",
       "      <th>3</th>\n",
       "      <td>113</td>\n",
       "      <td>2009091000</td>\n",
       "      <td>PIT</td>\n",
       "      <td>TEN</td>\n",
       "      <td>PIT</td>\n",
       "      <td>home</td>\n",
       "      <td>TEN</td>\n",
       "      <td>56.0</td>\n",
       "      <td>2009-09-10</td>\n",
       "      <td>815.0</td>\n",
       "      <td>...</td>\n",
       "      <td>NaN</td>\n",
       "      <td>NaN</td>\n",
       "      <td>NaN</td>\n",
       "      <td>NaN</td>\n",
       "      <td>NaN</td>\n",
       "      <td>NaN</td>\n",
       "      <td>NaN</td>\n",
       "      <td>NaN</td>\n",
       "      <td>NaN</td>\n",
       "      <td>NaN</td>\n",
       "    </tr>\n",
       "    <tr>\n",
       "      <th>4</th>\n",
       "      <td>139</td>\n",
       "      <td>2009091000</td>\n",
       "      <td>PIT</td>\n",
       "      <td>TEN</td>\n",
       "      <td>PIT</td>\n",
       "      <td>home</td>\n",
       "      <td>TEN</td>\n",
       "      <td>56.0</td>\n",
       "      <td>2009-09-10</td>\n",
       "      <td>807.0</td>\n",
       "      <td>...</td>\n",
       "      <td>NaN</td>\n",
       "      <td>NaN</td>\n",
       "      <td>NaN</td>\n",
       "      <td>NaN</td>\n",
       "      <td>NaN</td>\n",
       "      <td>NaN</td>\n",
       "      <td>NaN</td>\n",
       "      <td>NaN</td>\n",
       "      <td>NaN</td>\n",
       "      <td>NaN</td>\n",
       "    </tr>\n",
       "  </tbody>\n",
       "</table>\n",
       "<p>5 rows × 114 columns</p>\n",
       "</div>"
      ],
      "text/plain": [
       "   play_id     game_id home_team away_team posteam posteam_type defteam  \\\n",
       "0       46  2009091000       PIT       TEN     PIT         home     TEN   \n",
       "1       68  2009091000       PIT       TEN     PIT         home     TEN   \n",
       "2       92  2009091000       PIT       TEN     PIT         home     TEN   \n",
       "3      113  2009091000       PIT       TEN     PIT         home     TEN   \n",
       "4      139  2009091000       PIT       TEN     PIT         home     TEN   \n",
       "\n",
       "   yardline_100   game_date  quarter_seconds_remaining  ...  fumbled_2_team  \\\n",
       "0          30.0  2009-09-10                      900.0  ...             NaN   \n",
       "1          58.0  2009-09-10                      893.0  ...             NaN   \n",
       "2          53.0  2009-09-10                      856.0  ...             NaN   \n",
       "3          56.0  2009-09-10                      815.0  ...             NaN   \n",
       "4          56.0  2009-09-10                      807.0  ...             NaN   \n",
       "\n",
       "   fumble_recovery_1_team fumble_recovery_1_yards  fumble_recovery_2_team  \\\n",
       "0                     NaN                     NaN                     NaN   \n",
       "1                     NaN                     NaN                     NaN   \n",
       "2                     NaN                     NaN                     NaN   \n",
       "3                     NaN                     NaN                     NaN   \n",
       "4                     NaN                     NaN                     NaN   \n",
       "\n",
       "   fumble_recovery_2_yards  penalty_team  penalty_player_id  \\\n",
       "0                      NaN           NaN                NaN   \n",
       "1                      NaN           NaN                NaN   \n",
       "2                      NaN           NaN                NaN   \n",
       "3                      NaN           NaN                NaN   \n",
       "4                      NaN           NaN                NaN   \n",
       "\n",
       "   penalty_player_name  penalty_yards penalty_type  \n",
       "0                  NaN            NaN          NaN  \n",
       "1                  NaN            NaN          NaN  \n",
       "2                  NaN            NaN          NaN  \n",
       "3                  NaN            NaN          NaN  \n",
       "4                  NaN            NaN          NaN  \n",
       "\n",
       "[5 rows x 114 columns]"
      ]
     },
     "execution_count": 5,
     "metadata": {},
     "output_type": "execute_result"
    }
   ],
   "source": [
    "# create list of columns to keep\n",
    "list_KeepCols = ['play_id',\n",
    "'game_id',\n",
    "'home_team',\n",
    "'away_team',\n",
    "'posteam',\n",
    "'posteam_type',\n",
    "'defteam',\n",
    "'yardline_100',\n",
    "'game_date',\n",
    "'quarter_seconds_remaining',\n",
    "'half_seconds_remaining',\n",
    "'game_seconds_remaining',\n",
    "'game_half',\n",
    "'quarter_end',\n",
    "'drive',\n",
    "'sp',\n",
    "'qtr',\n",
    "'down',\n",
    "'goal_to_go',\n",
    "'time',\n",
    "'yrdln',\n",
    "'ydstogo',\n",
    "'ydsnet',\n",
    "'desc',\n",
    "'play_type',\n",
    "'yards_gained',\n",
    "'shotgun',\n",
    "'no_huddle',\n",
    "'qb_dropback',\n",
    "'qb_kneel',\n",
    "'qb_spike',\n",
    "'qb_scramble',\n",
    "'pass_length',\n",
    "'pass_location',\n",
    "'air_yards',\n",
    "'yards_after_catch',\n",
    "'run_location',\n",
    "'run_gap',\n",
    "'field_goal_result',\n",
    "'kick_distance',\n",
    "'extra_point_result',\n",
    "'two_point_conv_result',\n",
    "'home_timeouts_remaining',\n",
    "'away_timeouts_remaining',\n",
    "'timeout',\n",
    "'timeout_team',\n",
    "'td_team',\n",
    "'posteam_timeouts_remaining',\n",
    "'defteam_timeouts_remaining',\n",
    "'total_home_score',\n",
    "'total_away_score',\n",
    "'posteam_score',\n",
    "'defteam_score',\n",
    "'score_differential',\n",
    "'posteam_score_post',\n",
    "'defteam_score_post',\n",
    "'score_differential_post',\n",
    "'punt_blocked',\n",
    "'first_down_rush',\n",
    "'first_down_pass',\n",
    "'first_down_penalty',\n",
    "'third_down_converted',\n",
    "'third_down_failed',\n",
    "'fourth_down_converted',\n",
    "'fourth_down_failed',\n",
    "'incomplete_pass',\n",
    "'interception',\n",
    "'fumble_forced',\n",
    "'fumble_not_forced',\n",
    "'fumble_out_of_bounds',\n",
    "'safety',\n",
    "'penalty',\n",
    "'tackled_for_loss',\n",
    "'fumble_lost',\n",
    "'qb_hit',\n",
    "'rush_attempt',\n",
    "'pass_attempt',\n",
    "'sack',\n",
    "'touchdown',\n",
    "'pass_touchdown',\n",
    "'rush_touchdown',\n",
    "'fumble',\n",
    "'complete_pass',\n",
    "'lateral_reception',\n",
    "'lateral_rush',\n",
    "'lateral_return',\n",
    "'lateral_recovery',\n",
    "'passer_player_id',\n",
    "'passer_player_name',\n",
    "'receiver_player_id',\n",
    "'receiver_player_name',\n",
    "'rusher_player_id',\n",
    "'rusher_player_name',\n",
    "'lateral_receiver_player_id',\n",
    "'lateral_receiver_player_name',\n",
    "'lateral_rusher_player_id',\n",
    "'lateral_rusher_player_name',\n",
    "'lateral_sack_player_id',\n",
    "'lateral_sack_player_name',\n",
    "'fumbled_1_team',\n",
    "'fumbled_1_player_id',\n",
    "'fumbled_1_player_name',\n",
    "'fumbled_2_player_id',\n",
    "'fumbled_2_player_name',\n",
    "'fumbled_2_team',\n",
    "'fumble_recovery_1_team',\n",
    "'fumble_recovery_1_yards',\n",
    "'fumble_recovery_2_team',\n",
    "'fumble_recovery_2_yards',\n",
    "'penalty_team',\n",
    "'penalty_player_id',\n",
    "'penalty_player_name',\n",
    "'penalty_yards',\n",
    "'penalty_type']\n",
    "\n",
    "# reduce data frame again to only the desired columns\n",
    "nfl_data = nfl_data[list_KeepCols]\n",
    "\n",
    "#Fill NaN values\n",
    "# nfl_data[\"game_date\"] = nfl_data.game_date.fillna(\"was NaN\")\n",
    "# nfl_data[\"home_team\"] = nfl_data.home_team.fillna(\"was NaN\")\n",
    "# nfl_data[\"away_team\"] = nfl_data.away_team.fillna(\"was NaN\")\n",
    "nfl_data.head()\n"
   ]
  },
  {
   "cell_type": "code",
   "execution_count": 6,
   "metadata": {},
   "outputs": [],
   "source": [
    "# load weather summary\n",
    "# df_weather = pd.read_csv(\"../data/weather_summary.csv\")\n",
    "\n",
    "# # rename columns\n",
    "# df_weather.columns = [\"game_date\",\"home_team\",\"away_team\",\"rain_or_snow\"]\n",
    "# df_weather.head()"
   ]
  },
  {
   "cell_type": "code",
   "execution_count": 7,
   "metadata": {},
   "outputs": [],
   "source": [
    "# reformat date column\n",
    "# orig_dates = df_weather[\"game_date\"]\n",
    "# date_lists = [date.split(\"/\") for date in orig_dates]\n",
    "# dates = [f\"{date_list[2]}-{date_list[0]}-{date_list[1]}\" for date_list in date_lists]\n",
    "\n",
    "# # months = pd.DatetimeIndex(df_weather[\"game_date\"]).month\n",
    "# # days = pd.DatetimeIndex(df_weather[\"game_date\"]).day\n",
    "# # years = pd.DatetimeIndex(df_weather[\"game_date\"]).year\n",
    "# #year_short = [str(year)[2:4] for year in years]\n",
    "# # dates = [str(x[2]) + \"-\" + str(x[0])+ \"-\" + str(x[1]) for x in zip(months,days,years)]\n",
    "\n",
    "# df_weather[\"game_date\"] = dates\n",
    "# df_weather.head()"
   ]
  },
  {
   "cell_type": "code",
   "execution_count": 8,
   "metadata": {},
   "outputs": [],
   "source": [
    "# # merge weather data into play data\n",
    "# nfl_data = nfl_data.merge(df_weather, on=[\"game_date\",\"home_team\",\"away_team\"], how=\"left\")\n",
    "# nfl_data.head()"
   ]
  },
  {
   "cell_type": "code",
   "execution_count": 9,
   "metadata": {},
   "outputs": [],
   "source": [
    "# filter plays data to those games with bad weather\n",
    "# nfl_data = nfl_data[nfl_data[\"rain_or_snow\"]!=True]\n",
    "# nfl_data.head()"
   ]
  },
  {
   "cell_type": "code",
   "execution_count": 10,
   "metadata": {},
   "outputs": [
    {
     "data": {
      "text/plain": [
       "449371"
      ]
     },
     "execution_count": 10,
     "metadata": {},
     "output_type": "execute_result"
    }
   ],
   "source": [
    "\n",
    "# Just grab total number of plays\n",
    "total_plays = nfl_data[\"play_id\"].count()\n",
    "total_plays"
   ]
  },
  {
   "cell_type": "code",
   "execution_count": 11,
   "metadata": {},
   "outputs": [
    {
     "data": {
      "text/html": [
       "<div>\n",
       "<style scoped>\n",
       "    .dataframe tbody tr th:only-of-type {\n",
       "        vertical-align: middle;\n",
       "    }\n",
       "\n",
       "    .dataframe tbody tr th {\n",
       "        vertical-align: top;\n",
       "    }\n",
       "\n",
       "    .dataframe thead th {\n",
       "        text-align: right;\n",
       "    }\n",
       "</style>\n",
       "<table border=\"1\" class=\"dataframe\">\n",
       "  <thead>\n",
       "    <tr style=\"text-align: right;\">\n",
       "      <th></th>\n",
       "      <th>play_id</th>\n",
       "      <th>game_id</th>\n",
       "      <th>home_team</th>\n",
       "      <th>away_team</th>\n",
       "      <th>posteam</th>\n",
       "      <th>posteam_type</th>\n",
       "      <th>defteam</th>\n",
       "      <th>yardline_100</th>\n",
       "      <th>game_date</th>\n",
       "      <th>quarter_seconds_remaining</th>\n",
       "      <th>...</th>\n",
       "      <th>fumble_recovery_1_team</th>\n",
       "      <th>fumble_recovery_1_yards</th>\n",
       "      <th>fumble_recovery_2_team</th>\n",
       "      <th>fumble_recovery_2_yards</th>\n",
       "      <th>penalty_team</th>\n",
       "      <th>penalty_player_id</th>\n",
       "      <th>penalty_player_name</th>\n",
       "      <th>penalty_yards</th>\n",
       "      <th>penalty_type</th>\n",
       "      <th>game_year</th>\n",
       "    </tr>\n",
       "  </thead>\n",
       "  <tbody>\n",
       "    <tr>\n",
       "      <th>0</th>\n",
       "      <td>46</td>\n",
       "      <td>2009091000</td>\n",
       "      <td>PIT</td>\n",
       "      <td>TEN</td>\n",
       "      <td>PIT</td>\n",
       "      <td>home</td>\n",
       "      <td>TEN</td>\n",
       "      <td>30.0</td>\n",
       "      <td>2009-09-10</td>\n",
       "      <td>900.0</td>\n",
       "      <td>...</td>\n",
       "      <td>NaN</td>\n",
       "      <td>NaN</td>\n",
       "      <td>NaN</td>\n",
       "      <td>NaN</td>\n",
       "      <td>NaN</td>\n",
       "      <td>NaN</td>\n",
       "      <td>NaN</td>\n",
       "      <td>NaN</td>\n",
       "      <td>NaN</td>\n",
       "      <td>2009</td>\n",
       "    </tr>\n",
       "    <tr>\n",
       "      <th>1</th>\n",
       "      <td>68</td>\n",
       "      <td>2009091000</td>\n",
       "      <td>PIT</td>\n",
       "      <td>TEN</td>\n",
       "      <td>PIT</td>\n",
       "      <td>home</td>\n",
       "      <td>TEN</td>\n",
       "      <td>58.0</td>\n",
       "      <td>2009-09-10</td>\n",
       "      <td>893.0</td>\n",
       "      <td>...</td>\n",
       "      <td>NaN</td>\n",
       "      <td>NaN</td>\n",
       "      <td>NaN</td>\n",
       "      <td>NaN</td>\n",
       "      <td>NaN</td>\n",
       "      <td>NaN</td>\n",
       "      <td>NaN</td>\n",
       "      <td>NaN</td>\n",
       "      <td>NaN</td>\n",
       "      <td>2009</td>\n",
       "    </tr>\n",
       "    <tr>\n",
       "      <th>2</th>\n",
       "      <td>92</td>\n",
       "      <td>2009091000</td>\n",
       "      <td>PIT</td>\n",
       "      <td>TEN</td>\n",
       "      <td>PIT</td>\n",
       "      <td>home</td>\n",
       "      <td>TEN</td>\n",
       "      <td>53.0</td>\n",
       "      <td>2009-09-10</td>\n",
       "      <td>856.0</td>\n",
       "      <td>...</td>\n",
       "      <td>NaN</td>\n",
       "      <td>NaN</td>\n",
       "      <td>NaN</td>\n",
       "      <td>NaN</td>\n",
       "      <td>NaN</td>\n",
       "      <td>NaN</td>\n",
       "      <td>NaN</td>\n",
       "      <td>NaN</td>\n",
       "      <td>NaN</td>\n",
       "      <td>2009</td>\n",
       "    </tr>\n",
       "    <tr>\n",
       "      <th>3</th>\n",
       "      <td>113</td>\n",
       "      <td>2009091000</td>\n",
       "      <td>PIT</td>\n",
       "      <td>TEN</td>\n",
       "      <td>PIT</td>\n",
       "      <td>home</td>\n",
       "      <td>TEN</td>\n",
       "      <td>56.0</td>\n",
       "      <td>2009-09-10</td>\n",
       "      <td>815.0</td>\n",
       "      <td>...</td>\n",
       "      <td>NaN</td>\n",
       "      <td>NaN</td>\n",
       "      <td>NaN</td>\n",
       "      <td>NaN</td>\n",
       "      <td>NaN</td>\n",
       "      <td>NaN</td>\n",
       "      <td>NaN</td>\n",
       "      <td>NaN</td>\n",
       "      <td>NaN</td>\n",
       "      <td>2009</td>\n",
       "    </tr>\n",
       "    <tr>\n",
       "      <th>4</th>\n",
       "      <td>139</td>\n",
       "      <td>2009091000</td>\n",
       "      <td>PIT</td>\n",
       "      <td>TEN</td>\n",
       "      <td>PIT</td>\n",
       "      <td>home</td>\n",
       "      <td>TEN</td>\n",
       "      <td>56.0</td>\n",
       "      <td>2009-09-10</td>\n",
       "      <td>807.0</td>\n",
       "      <td>...</td>\n",
       "      <td>NaN</td>\n",
       "      <td>NaN</td>\n",
       "      <td>NaN</td>\n",
       "      <td>NaN</td>\n",
       "      <td>NaN</td>\n",
       "      <td>NaN</td>\n",
       "      <td>NaN</td>\n",
       "      <td>NaN</td>\n",
       "      <td>NaN</td>\n",
       "      <td>2009</td>\n",
       "    </tr>\n",
       "  </tbody>\n",
       "</table>\n",
       "<p>5 rows × 115 columns</p>\n",
       "</div>"
      ],
      "text/plain": [
       "   play_id     game_id home_team away_team posteam posteam_type defteam  \\\n",
       "0       46  2009091000       PIT       TEN     PIT         home     TEN   \n",
       "1       68  2009091000       PIT       TEN     PIT         home     TEN   \n",
       "2       92  2009091000       PIT       TEN     PIT         home     TEN   \n",
       "3      113  2009091000       PIT       TEN     PIT         home     TEN   \n",
       "4      139  2009091000       PIT       TEN     PIT         home     TEN   \n",
       "\n",
       "   yardline_100   game_date  quarter_seconds_remaining  ...  \\\n",
       "0          30.0  2009-09-10                      900.0  ...   \n",
       "1          58.0  2009-09-10                      893.0  ...   \n",
       "2          53.0  2009-09-10                      856.0  ...   \n",
       "3          56.0  2009-09-10                      815.0  ...   \n",
       "4          56.0  2009-09-10                      807.0  ...   \n",
       "\n",
       "   fumble_recovery_1_team  fumble_recovery_1_yards fumble_recovery_2_team  \\\n",
       "0                     NaN                      NaN                    NaN   \n",
       "1                     NaN                      NaN                    NaN   \n",
       "2                     NaN                      NaN                    NaN   \n",
       "3                     NaN                      NaN                    NaN   \n",
       "4                     NaN                      NaN                    NaN   \n",
       "\n",
       "   fumble_recovery_2_yards  penalty_team  penalty_player_id  \\\n",
       "0                      NaN           NaN                NaN   \n",
       "1                      NaN           NaN                NaN   \n",
       "2                      NaN           NaN                NaN   \n",
       "3                      NaN           NaN                NaN   \n",
       "4                      NaN           NaN                NaN   \n",
       "\n",
       "   penalty_player_name  penalty_yards  penalty_type game_year  \n",
       "0                  NaN            NaN           NaN      2009  \n",
       "1                  NaN            NaN           NaN      2009  \n",
       "2                  NaN            NaN           NaN      2009  \n",
       "3                  NaN            NaN           NaN      2009  \n",
       "4                  NaN            NaN           NaN      2009  \n",
       "\n",
       "[5 rows x 115 columns]"
      ]
     },
     "execution_count": 11,
     "metadata": {},
     "output_type": "execute_result"
    }
   ],
   "source": [
    "# Create a column for year that game occurred\n",
    "\n",
    "game_year = pd.DatetimeIndex(nfl_data[\"game_date\"]).year\n",
    "nfl_data[\"game_year\"] = game_year\n",
    "nfl_data.head()"
   ]
  },
  {
   "cell_type": "code",
   "execution_count": 12,
   "metadata": {},
   "outputs": [
    {
     "name": "stdout",
     "output_type": "stream",
     "text": [
      "Pass average: 6.320308940736334 Run average: 4.360905374624772\n"
     ]
    }
   ],
   "source": [
    "# Code to discover the average yardage of all run plays vs. all pass plays\n",
    "\n",
    "run_play = nfl_data.loc[nfl_data[\"play_type\"] == \"run\", :]\n",
    "run_avg = run_play[\"yards_gained\"].mean()\n",
    "\n",
    "pass_play = nfl_data.loc[nfl_data[\"play_type\"] == \"pass\", :]\n",
    "pass_avg = pass_play[\"yards_gained\"].mean()\n",
    "\n",
    "print(f'Pass average:', pass_avg, 'Run average:', run_avg)\n"
   ]
  },
  {
   "cell_type": "code",
   "execution_count": 23,
   "metadata": {},
   "outputs": [
    {
     "data": {
      "image/png": "[encoded data removed]",
      "text/plain": [
       "<Figure size 432x288 with 1 Axes>"
      ]
     },
     "metadata": {
      "needs_background": "light"
     },
     "output_type": "display_data"
    }
   ],
   "source": [
    "#Create a chart detailing the average yards gained by play type for overall sample size\n",
    "\n",
    "avg_yards = [run_avg, pass_avg]\n",
    "x_axis = np.arange(len(avg_yards))\n",
    "\n",
    "fig1 = plt.figure()\n",
    "\n",
    "plt.bar(x_axis, avg_yards, color='b', alpha=0.5, align='center')\n",
    "\n",
    "tick_locations = [value for value in x_axis]\n",
    "plt.xticks(tick_locations, [\"Run Play\", \"Pass Play\"])\n",
    "\n",
    "plt.title(\"Average Yards Gained by Play Type\")\n",
    "plt.xlabel(\"Play Type\")\n",
    "plt.ylabel(\"Avg Yards Gained\")\n",
    "\n",
    "fig1.savefig(\"../results/AvgYardsGained.png\")"
   ]
  },
  {
   "cell_type": "code",
   "execution_count": 24,
   "metadata": {},
   "outputs": [
    {
     "name": "stdout",
     "output_type": "stream",
     "text": [
      "Run play fumbles total: 1054.0 Pass play turnovers: 5933.0\n"
     ]
    }
   ],
   "source": [
    "#Calculate the turnovers by play type\n",
    "\n",
    "fumbles = run_play[\"fumble_lost\"].sum()\n",
    "\n",
    "interceptions = pass_play[\"interception\"].sum()\n",
    "pass_turnovers = interceptions + pass_play[\"fumble_lost\"].sum()\n",
    "print(f'Run play fumbles total:', fumbles, 'Pass play turnovers:', pass_turnovers)\n"
   ]
  },
  {
   "cell_type": "code",
   "execution_count": 25,
   "metadata": {},
   "outputs": [
    {
     "name": "stdout",
     "output_type": "stream",
     "text": [
      "% of Run plays resulting in fumble: 0.00794320682482742\n"
     ]
    }
   ],
   "source": [
    "# % of run plays resulting in fumble and % of pass plays resulting in int\n",
    "\n",
    "fumble_pct = fumbles / run_play[\"play_id\"].count()\n",
    "print(f'% of Run plays resulting in fumble: {fumble_pct}')"
   ]
  },
  {
   "cell_type": "code",
   "execution_count": 26,
   "metadata": {},
   "outputs": [
    {
     "name": "stdout",
     "output_type": "stream",
     "text": [
      "% of Pass plays resulting in interception: 0.031782169201347785\n"
     ]
    }
   ],
   "source": [
    "# % of pass plays resulting in int\n",
    "\n",
    "int_pct = interceptions / pass_play[\"play_id\"].count()\n",
    "pass_turnover_pct = pass_turnovers / pass_play[\"play_id\"].count()\n",
    "\n",
    "print(f'% of Pass plays resulting in interception: {pass_turnover_pct}')"
   ]
  },
  {
   "cell_type": "code",
   "execution_count": 27,
   "metadata": {},
   "outputs": [
    {
     "data": {
      "image/png": "[encoded data removed]",
      "text/plain": [
       "<Figure size 432x288 with 1 Axes>"
      ]
     },
     "metadata": {
      "needs_background": "light"
     },
     "output_type": "display_data"
    }
   ],
   "source": [
    "# Construct simple chart for turnovers\n",
    "\n",
    "Turnovers = [fumble_pct, pass_turnover_pct]\n",
    "x_axis = np.arange(len(Turnovers))\n",
    "\n",
    "fig2 = plt.figure()\n",
    "\n",
    "plt.bar(x_axis, Turnovers, color='r', alpha=0.5, align='center')\n",
    "\n",
    "tick_locations = [value for value in x_axis]\n",
    "plt.xticks(tick_locations, [\"Run Play % Fumbles Lost\", \"Pass Plays % Turnover\"])\n",
    "\n",
    "plt.title(\"% Turnover by Play Type\")\n",
    "plt.xlabel(\"Turnover Type\")\n",
    "plt.ylabel(\"% Turnover by Turnover Type\")\n",
    "fig2.savefig(\"../results/PctTurnover.png\")"
   ]
  },
  {
   "cell_type": "code",
   "execution_count": 28,
   "metadata": {},
   "outputs": [
    {
     "name": "stdout",
     "output_type": "stream",
     "text": [
      "Tackled for Loss - Run: 12979.0 ; Sacks Taken - Pass 11785.0\n"
     ]
    }
   ],
   "source": [
    "# Sack vs Tackle for Loss Analysis (play count)\n",
    "\n",
    "sacks = pass_play[\"sack\"].sum()\n",
    "tackled_for_loss = run_play[\"tackled_for_loss\"].sum()\n",
    "\n",
    "print(f'Tackled for Loss - Run:', tackled_for_loss, '; Sacks Taken - Pass', sacks)"
   ]
  },
  {
   "cell_type": "code",
   "execution_count": 19,
   "metadata": {},
   "outputs": [
    {
     "name": "stdout",
     "output_type": "stream",
     "text": [
      "Avg loss when TFL - Run: -2.2762954966070326 ; Avg loss when sacked - Pass -6.538004246284501\n"
     ]
    }
   ],
   "source": [
    "# Sack vs Tackle for Loss Analysis (yardage)\n",
    "\n",
    "sack_plays = pass_play.loc[pass_play[\"sack\"] == 1, :]\n",
    "avg_loss_sack = sack_plays[\"yards_gained\"].mean()\n",
    "\n",
    "\n",
    "tfl_plays = run_play.loc[run_play[\"tackled_for_loss\"] == 1, :]\n",
    "avg_loss_tfl = tfl_plays[\"yards_gained\"].mean()\n",
    "\n",
    "print(f'Avg loss when TFL - Run:', avg_loss_tfl, '; Avg loss when sacked - Pass', avg_loss_sack)\n"
   ]
  },
  {
   "cell_type": "code",
   "execution_count": 20,
   "metadata": {},
   "outputs": [
    {
     "name": "stdout",
     "output_type": "stream",
     "text": [
      "Safeties via Run: 58 ; Safeties via Pass 61\n"
     ]
    }
   ],
   "source": [
    "# Safety Analysis \n",
    "\n",
    "safety_run = run_play.loc[run_play[\"safety\"] == 1, :]\n",
    "safety_pass = pass_play.loc[pass_play[\"safety\"] == 1, :]\n",
    "\n",
    "safety_count_run = safety_run[\"play_id\"].count()\n",
    "safety_count_pass = safety_pass[\"play_id\"].count()\n",
    "\n",
    "print(f'Safeties via Run:', safety_count_run, '; Safeties via Pass', safety_count_pass)"
   ]
  },
  {
   "cell_type": "code",
   "execution_count": 21,
   "metadata": {
    "scrolled": true
   },
   "outputs": [
    {
     "data": {
      "text/plain": [
       "game_year\n",
       "2009    4.359070\n",
       "2010    4.369907\n",
       "2011    4.393241\n",
       "2012    4.420730\n",
       "2013    4.322209\n",
       "2014    4.298687\n",
       "2015    4.294626\n",
       "2016    4.345939\n",
       "2017    4.226448\n",
       "2018    4.599251\n",
       "Name: yards_gained, dtype: float64"
      ]
     },
     "execution_count": 21,
     "metadata": {},
     "output_type": "execute_result"
    }
   ],
   "source": [
    "# Annual Average Yards gained by run play\n",
    "annual_run_yd = run_play.groupby(\"game_year\")[\"yards_gained\"].mean()\n",
    "annual_run_yd"
   ]
  },
  {
   "cell_type": "code",
   "execution_count": 22,
   "metadata": {},
   "outputs": [
    {
     "data": {
      "text/plain": [
       "game_year\n",
       "2009    6.235110\n",
       "2010    6.232856\n",
       "2011    6.328927\n",
       "2012    6.296332\n",
       "2013    6.227259\n",
       "2014    6.385965\n",
       "2015    6.436385\n",
       "2016    6.403542\n",
       "2017    6.183084\n",
       "2018    6.484034\n",
       "Name: yards_gained, dtype: float64"
      ]
     },
     "execution_count": 22,
     "metadata": {},
     "output_type": "execute_result"
    }
   ],
   "source": [
    "# Annual Average Yards gained by pass play\n",
    "annual_pass_yd = pass_play.groupby(\"game_year\")[\"yards_gained\"].mean()\n",
    "annual_pass_yd"
   ]
  },
  {
   "cell_type": "code",
   "execution_count": null,
   "metadata": {
    "scrolled": true
   },
   "outputs": [],
   "source": []
  },
  {
   "cell_type": "code",
   "execution_count": null,
   "metadata": {},
   "outputs": [],
   "source": []
  },
  {
   "cell_type": "code",
   "execution_count": null,
   "metadata": {},
   "outputs": [],
   "source": []
  }
 ],
 "metadata": {
  "kernelspec": {
   "display_name": "Py (Project1)",
   "language": "python",
   "name": "project1"
  },
  "language_info": {
   "codemirror_mode": {
    "name": "ipython",
    "version": 3
   },
   "file_extension": ".py",
   "mimetype": "text/x-python",
   "name": "python",
   "nbconvert_exporter": "python",
   "pygments_lexer": "ipython3",
   "version": "3.7.3"
  }
 },
 "nbformat": 4,
 "nbformat_minor": 2
}
